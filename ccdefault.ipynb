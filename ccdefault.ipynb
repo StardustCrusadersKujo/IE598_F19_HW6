{
 "cells": [
  {
   "cell_type": "code",
   "execution_count": 75,
   "metadata": {},
   "outputs": [
    {
     "name": "stdout",
     "output_type": "stream",
     "text": [
      "My name is {Zijie Lin}\n",
      "My NetID is: {zlin36}\n",
      "I hereby certify that I have read the University policy on Academic Integrity and that I am not in violation.\n"
     ]
    }
   ],
   "source": [
    "import sklearn\n",
    "import numpy as np\n",
    "from sklearn.neighbors import KNeighborsClassifier\n",
    "import pandas as pd\n",
    "from sklearn.model_selection import train_test_split\n",
    "from sklearn import preprocessing\n",
    "from sklearn.tree import DecisionTreeClassifier\n",
    "print(\"My name is {Zijie Lin}\")\n",
    "print(\"My NetID is: {zlin36}\")\n",
    "print(\"I hereby certify that I have read the University policy on Academic Integrity and that I am not in violation.\")"
   ]
  },
  {
   "cell_type": "code",
   "execution_count": 76,
   "metadata": {},
   "outputs": [
    {
     "name": "stdout",
     "output_type": "stream",
     "text": [
      "   ID  LIMIT_BAL  SEX  EDUCATION  MARRIAGE  AGE  PAY_0  PAY_2  PAY_3  PAY_4  \\\n",
      "0   1      20000    2          2         1   24      2      2     -1     -1   \n",
      "1   2     120000    2          2         2   26     -1      2      0      0   \n",
      "2   3      90000    2          2         2   34      0      0      0      0   \n",
      "3   4      50000    2          2         1   37      0      0      0      0   \n",
      "4   5      50000    1          2         1   57     -1      0     -1      0   \n",
      "\n",
      "   ...  BILL_AMT4  BILL_AMT5  BILL_AMT6  PAY_AMT1  PAY_AMT2  PAY_AMT3  \\\n",
      "0  ...          0          0          0         0       689         0   \n",
      "1  ...       3272       3455       3261         0      1000      1000   \n",
      "2  ...      14331      14948      15549      1518      1500      1000   \n",
      "3  ...      28314      28959      29547      2000      2019      1200   \n",
      "4  ...      20940      19146      19131      2000     36681     10000   \n",
      "\n",
      "   PAY_AMT4  PAY_AMT5  PAY_AMT6  DEFAULT  \n",
      "0         0         0         0        1  \n",
      "1      1000         0      2000        1  \n",
      "2      1000      1000      5000        0  \n",
      "3      1100      1069      1000        0  \n",
      "4      9000       689       679        0  \n",
      "\n",
      "[5 rows x 25 columns]\n"
     ]
    }
   ],
   "source": [
    "df = pd.read_csv('ccdefault.csv')\n",
    "print (df.head())\n",
    "X, y = df.iloc[:,1:-1], df.iloc[:,-1]\n",
    "tree = DecisionTreeClassifier ()"
   ]
  },
  {
   "cell_type": "code",
   "execution_count": 73,
   "metadata": {},
   "outputs": [],
   "source": [
    "x = {}\n",
    "for seed in range(1,11):\n",
    "    X_train, X_test, y_train, y_test = train_test_split(X, y,test_size=0.1, random_state=seed)\n",
    "    tree.fit(X_train, y_train)\n",
    "    x[seed] = [tree.score(X_train, y_train),tree.score(X_test, y_test)]"
   ]
  },
  {
   "cell_type": "code",
   "execution_count": null,
   "metadata": {},
   "outputs": [],
   "source": []
  },
  {
   "cell_type": "code",
   "execution_count": 15,
   "metadata": {},
   "outputs": [
    {
     "name": "stdout",
     "output_type": "stream",
     "text": [
      "+----------------------------+---------------------------+\n",
      "|           Train            |            Test           |\n",
      "+----------------------------+---------------------------+\n",
      "|     0.9993333333333333     |     0.7266666666666667    |\n",
      "|     0.9993703703703704     |     0.7336666666666667    |\n",
      "|     0.9993703703703704     |     0.7206666666666667    |\n",
      "|     0.9992962962962963     |     0.7206666666666667    |\n",
      "|     0.9993703703703704     |           0.728           |\n",
      "|     0.9994074074074074     |     0.7163333333333334    |\n",
      "|     0.9993333333333333     |     0.7253333333333334    |\n",
      "|     0.9992592592592593     |           0.722           |\n",
      "|     0.9995185185185185     |     0.7303333333333333    |\n",
      "|     0.9994814814814815     |           0.733           |\n",
      "|  mean= 0.9993740740740741  |  mean= 0.7256666666666666 |\n",
      "| std= 7.490277191168311e-05 | std= 0.005446711546122719 |\n",
      "+----------------------------+---------------------------+\n"
     ]
    }
   ],
   "source": [
    "from prettytable import PrettyTable\n",
    "t = PrettyTable(['Train', 'Test'])\n",
    "train = []\n",
    "test = []\n",
    "for i in x:\n",
    "    t.add_row(x[i])\n",
    "    test.append(x[i][1])\n",
    "    train.append(x[i][0])\n",
    "mean1 = np.mean(train)\n",
    "mean2 = np.mean(test)\n",
    "std1 = np.std(train)\n",
    "std2 = np.std(test)\n",
    "t.add_row([\"mean= \" + str(mean1),\"mean= \" + str(mean2)])\n",
    "t.add_row([\"std= \" + str(std1),\"std= \" + str(std2)])\n",
    "print(t)"
   ]
  },
  {
   "cell_type": "code",
   "execution_count": null,
   "metadata": {},
   "outputs": [],
   "source": [
    "\n"
   ]
  },
  {
   "cell_type": "code",
   "execution_count": 77,
   "metadata": {},
   "outputs": [],
   "source": [
    "from sklearn.model_selection import cross_val_score, StratifiedKFold\n",
    "tree = DecisionTreeClassifier ()\n",
    "score = []\n",
    "for seed in range(1,11):\n",
    "    X_train, X_test, y_train, y_test = train_test_split(X, y,test_size=0.1, random_state=seed)\n",
    "    kfold = StratifiedKFold(n_splits = 10, random_state = 1).split(X_train, y_train)\n",
    "    score.append(cross_val_score(tree, X_train, y_train, cv = 10))\n"
   ]
  },
  {
   "cell_type": "code",
   "execution_count": 78,
   "metadata": {},
   "outputs": [
    {
     "name": "stdout",
     "output_type": "stream",
     "text": [
      "train scores\n",
      "+---------+---------+---------+---------+---------+---------+---------+---------+---------+---------+\n",
      "|    0    |    1    |    2    |    3    |    4    |    5    |    6    |    7    |    8    |    9    |\n",
      "+---------+---------+---------+---------+---------+---------+---------+---------+---------+---------+\n",
      "| 0.71741 | 0.72084 | 0.72418 | 0.74306 | 0.72640 | 0.71751 | 0.72973 | 0.73676 | 0.72714 | 0.72973 |\n",
      "| 0.73370 | 0.72751 | 0.71825 | 0.71825 | 0.71677 | 0.73565 | 0.72195 | 0.70630 | 0.71973 | 0.71889 |\n",
      "| 0.73111 | 0.72825 | 0.70826 | 0.73148 | 0.73407 | 0.71455 | 0.72259 | 0.72259 | 0.72000 | 0.71481 |\n",
      "| 0.72000 | 0.73306 | 0.71196 | 0.72259 | 0.72074 | 0.72788 | 0.73222 | 0.73630 | 0.71963 | 0.72481 |\n",
      "| 0.72593 | 0.73306 | 0.71741 | 0.71667 | 0.73185 | 0.73111 | 0.72815 | 0.72926 | 0.72000 | 0.72000 |\n",
      "| 0.71926 | 0.71619 | 0.71296 | 0.71444 | 0.72889 | 0.72259 | 0.71481 | 0.72111 | 0.73185 | 0.73333 |\n",
      "| 0.72370 | 0.72101 | 0.72694 | 0.73111 | 0.71593 | 0.73138 | 0.72926 | 0.72370 | 0.71889 | 0.72407 |\n",
      "| 0.72926 | 0.71916 | 0.73731 | 0.72296 | 0.72111 | 0.73212 | 0.72704 | 0.71963 | 0.72741 | 0.73778 |\n",
      "| 0.71963 | 0.71693 | 0.72582 | 0.71878 | 0.72064 | 0.72990 | 0.71175 | 0.73000 | 0.73916 | 0.70963 |\n",
      "| 0.72222 | 0.72768 | 0.72064 | 0.72953 | 0.72545 | 0.72138 | 0.73879 | 0.72582 | 0.72286 | 0.71804 |\n",
      "|   mean  |   mean  |   mean  |   mean  |   mean  |   mean  |   mean  |   mean  |   mean  |   mean  |\n",
      "| 0.72422 | 0.72437 | 0.72037 | 0.72489 | 0.72419 | 0.72641 | 0.72563 | 0.72515 | 0.72467 | 0.72311 |\n",
      "|   std   |   std   |   std   |   std   |   std   |   std   |   std   |   std   |   std   |   std   |\n",
      "| 0.00529 | 0.00600 | 0.00812 | 0.00837 | 0.00585 | 0.00663 | 0.00766 | 0.00843 | 0.00637 | 0.00819 |\n",
      "+---------+---------+---------+---------+---------+---------+---------+---------+---------+---------+\n"
     ]
    }
   ],
   "source": [
    "print ('train scores')\n",
    "t = PrettyTable()\n",
    "m = []\n",
    "sigma = []\n",
    "for i in range(10):\n",
    "    c = str(i)\n",
    "    sc = ['{:.5f}'.format(j) for j in score[i]]\n",
    "    t.add_column(c,sc) \n",
    "    m.append('%0.5f'%np.mean(score[i]))\n",
    "    sigma.append('%0.5f'%np.std(score[i]))\n",
    "t.add_row([\"mean\"] * 10)\n",
    "t.add_row(m)\n",
    "t.add_row([\"std\"] * 10)\n",
    "t.add_row(sigma)\n",
    "print (t)"
   ]
  },
  {
   "cell_type": "code",
   "execution_count": 90,
   "metadata": {},
   "outputs": [],
   "source": [
    "score = []\n",
    "for seed in range(1,11):\n",
    "    X_train, X_test, y_train, y_test = train_test_split(X, y,test_size=0.1, random_state=seed)\n",
    "    kfold = StratifiedKFold(n_splits = 10, random_state = 1).split(X_test, y_test)\n",
    "    score.append(cross_val_score(tree, X_test, y_test, cv = 10))"
   ]
  },
  {
   "cell_type": "code",
   "execution_count": 89,
   "metadata": {},
   "outputs": [
    {
     "name": "stdout",
     "output_type": "stream",
     "text": [
      "out of sample scores\n",
      "+---------+---------+---------+---------+---------+---------+---------+---------+---------+---------+\n",
      "|    0    |    1    |    2    |    3    |    4    |    5    |    6    |    7    |    8    |    9    |\n",
      "+---------+---------+---------+---------+---------+---------+---------+---------+---------+---------+\n",
      "| 0.71429 | 0.72093 | 0.76080 | 0.66445 | 0.72093 | 0.70000 | 0.68106 | 0.74086 | 0.68439 | 0.71761 |\n",
      "| 0.73090 | 0.73333 | 0.71761 | 0.70764 | 0.72757 | 0.72000 | 0.74419 | 0.70764 | 0.71429 | 0.70432 |\n",
      "| 0.73090 | 0.73667 | 0.73333 | 0.73667 | 0.69333 | 0.71333 | 0.66333 | 0.76744 | 0.70333 | 0.73090 |\n",
      "| 0.69103 | 0.70333 | 0.75667 | 0.70667 | 0.71000 | 0.70667 | 0.70333 | 0.72425 | 0.71333 | 0.77076 |\n",
      "| 0.71667 | 0.74667 | 0.76333 | 0.69000 | 0.70000 | 0.70333 | 0.75667 | 0.72757 | 0.72333 | 0.72757 |\n",
      "| 0.76000 | 0.75333 | 0.76000 | 0.73667 | 0.73333 | 0.67000 | 0.73667 | 0.71237 | 0.73333 | 0.72241 |\n",
      "| 0.77592 | 0.75667 | 0.74333 | 0.74667 | 0.73333 | 0.69000 | 0.73667 | 0.72910 | 0.73667 | 0.77592 |\n",
      "| 0.73579 | 0.74667 | 0.73000 | 0.68667 | 0.72333 | 0.67667 | 0.68333 | 0.71237 | 0.69667 | 0.75251 |\n",
      "| 0.66221 | 0.74000 | 0.72575 | 0.69900 | 0.72575 | 0.73000 | 0.70569 | 0.67559 | 0.71572 | 0.74247 |\n",
      "| 0.73579 | 0.78261 | 0.79264 | 0.71906 | 0.72241 | 0.71000 | 0.72575 | 0.72241 | 0.72910 | 0.77258 |\n",
      "|   mean  |   mean  |   mean  |   mean  |   mean  |   mean  |   mean  |   mean  |   mean  |   mean  |\n",
      "| 0.72535 | 0.74202 | 0.74835 | 0.70935 | 0.71900 | 0.70200 | 0.71367 | 0.72196 | 0.71502 | 0.74170 |\n",
      "|   std   |   std   |   std   |   std   |   std   |   std   |   std   |   std   |   std   |   std   |\n",
      "| 0.03066 | 0.02021 | 0.02142 | 0.02450 | 0.01290 | 0.01771 | 0.02945 | 0.02248 | 0.01577 | 0.02398 |\n",
      "+---------+---------+---------+---------+---------+---------+---------+---------+---------+---------+\n",
      "Average Mean = \n",
      "0.7238413667559269\n",
      "Average Std = \n",
      "0.02190841123994117\n"
     ]
    }
   ],
   "source": [
    "print ('out of sample scores')\n",
    "t = PrettyTable()\n",
    "m = []\n",
    "sigma = []\n",
    "m1 = []\n",
    "sigma1 = []\n",
    "for i in range(10):\n",
    "    c = str(i)\n",
    "    sc = ['{:.5f}'.format(j) for j in score[i]]\n",
    "    t.add_column(c,sc) \n",
    "    m.append('%0.5f'%np.mean(score[i]))\n",
    "    m1.append(np.mean(score[i]))\n",
    "    sigma.append('%0.5f'%np.std(score[i]))\n",
    "    sigma1.append(np.std(score[i]))\n",
    "t.add_row([\"mean\"] * 10)\n",
    "t.add_row(m)\n",
    "t.add_row([\"std\"] * 10)\n",
    "t.add_row(sigma)\n",
    "print (t)\n",
    "print (\"Average Mean = \") \n",
    "print(np.mean(m1))\n",
    "print (\"Average Std = \")\n",
    "print(np.mean(sigma1))"
   ]
  },
  {
   "cell_type": "code",
   "execution_count": 113,
   "metadata": {},
   "outputs": [],
   "source": [
    "kfold = StratifiedKFold(n_splits = 10, random_state = 1)\n",
    "score = []\n",
    "score1 = []\n",
    "for train_index, test_index in kfold.split(X, y):\n",
    "    X_train, X_test = X.iloc[train_index,:], X.iloc[test_index,:]\n",
    "    y_train, y_test = y[train_index], y[test_index]\n",
    "    score.append(cross_val_score(tree, X_train, y_train, cv = 10))\n",
    "    score1.append(cross_val_score(tree, X_test, y_test, cv = 10))"
   ]
  },
  {
   "cell_type": "code",
   "execution_count": 119,
   "metadata": {},
   "outputs": [
    {
     "name": "stdout",
     "output_type": "stream",
     "text": [
      "train scores\n",
      "+---------+---------+---------+---------+---------+---------+---------+---------+---------+---------+\n",
      "|    0    |    1    |    2    |    3    |    4    |    5    |    6    |    7    |    8    |    9    |\n",
      "+---------+---------+---------+---------+---------+---------+---------+---------+---------+---------+\n",
      "| 0.71307 | 0.71825 | 0.70048 | 0.72270 | 0.71233 | 0.72788 | 0.70826 | 0.70455 | 0.72121 | 0.73232 |\n",
      "| 0.72418 | 0.71307 | 0.71603 | 0.71233 | 0.70492 | 0.70455 | 0.70715 | 0.72010 | 0.71233 | 0.70900 |\n",
      "| 0.71852 | 0.72407 | 0.72630 | 0.70889 | 0.72852 | 0.70963 | 0.71714 | 0.72751 | 0.71048 | 0.71492 |\n",
      "| 0.70667 | 0.70889 | 0.71556 | 0.72185 | 0.71852 | 0.71296 | 0.73481 | 0.71222 | 0.73444 | 0.71444 |\n",
      "| 0.73889 | 0.72741 | 0.71407 | 0.71889 | 0.71000 | 0.71333 | 0.72333 | 0.71815 | 0.70630 | 0.71556 |\n",
      "| 0.73074 | 0.73815 | 0.74074 | 0.72556 | 0.72778 | 0.73296 | 0.72296 | 0.73259 | 0.72667 | 0.72815 |\n",
      "| 0.72444 | 0.73778 | 0.73630 | 0.73481 | 0.73519 | 0.74148 | 0.73963 | 0.74037 | 0.73852 | 0.74370 |\n",
      "| 0.74027 | 0.73953 | 0.74139 | 0.73583 | 0.73148 | 0.71556 | 0.72593 | 0.72704 | 0.74000 | 0.74630 |\n",
      "| 0.74398 | 0.74287 | 0.73286 | 0.73101 | 0.74843 | 0.73361 | 0.73509 | 0.73286 | 0.73990 | 0.73398 |\n",
      "| 0.72397 | 0.72842 | 0.72471 | 0.73323 | 0.72657 | 0.73027 | 0.73509 | 0.72731 | 0.72323 | 0.72731 |\n",
      "|   mean  |   mean  |   mean  |   mean  |   mean  |   mean  |   mean  |   mean  |   mean  |   mean  |\n",
      "| 0.72647 | 0.72784 | 0.72484 | 0.72451 | 0.72437 | 0.72222 | 0.72494 | 0.72427 | 0.72531 | 0.72657 |\n",
      "|   std   |   std   |   std   |   std   |   std   |   std   |   std   |   std   |   std   |   std   |\n",
      "| 0.01149 | 0.01119 | 0.01264 | 0.00888 | 0.01242 | 0.01180 | 0.01087 | 0.01009 | 0.01208 | 0.01219 |\n",
      "+---------+---------+---------+---------+---------+---------+---------+---------+---------+---------+\n",
      "Average Mean = \n",
      "0.7248762939453863\n",
      "Average Std = \n",
      "0.01347437568975689\n"
     ]
    }
   ],
   "source": [
    "print ('train scores')\n",
    "t = PrettyTable()\n",
    "m = []\n",
    "sigma = []\n",
    "for i in range(10):\n",
    "    c = str(i)\n",
    "    sc = ['{:.5f}'.format(j) for j in score[i]]\n",
    "    t.add_column(c,sc) \n",
    "    m.append('%0.5f'%np.mean(score[i]))\n",
    "    m1.append(np.mean(score[i]))\n",
    "    sigma.append('%0.5f'%np.std(score[i]))\n",
    "    sigma1.append(np.std(score[i]))\n",
    "t.add_row([\"mean\"] * 10)\n",
    "t.add_row(m)\n",
    "t.add_row([\"std\"] * 10)\n",
    "t.add_row(sigma)\n",
    "print (t)\n",
    "print (\"Average Mean = \") \n",
    "print(np.mean(m1))\n",
    "print (\"Average Std = \")\n",
    "print(np.mean(sigma1))\n"
   ]
  },
  {
   "cell_type": "code",
   "execution_count": 120,
   "metadata": {},
   "outputs": [
    {
     "name": "stdout",
     "output_type": "stream",
     "text": [
      "train scores\n",
      "+---------+---------+---------+---------+---------+---------+---------+---------+---------+---------+\n",
      "|    0    |    1    |    2    |    3    |    4    |    5    |    6    |    7    |    8    |    9    |\n",
      "+---------+---------+---------+---------+---------+---------+---------+---------+---------+---------+\n",
      "| 0.66777 | 0.70764 | 0.69767 | 0.72425 | 0.71761 | 0.72425 | 0.61462 | 0.37209 | 0.76744 | 0.74751 |\n",
      "| 0.71761 | 0.69767 | 0.70764 | 0.75083 | 0.75083 | 0.74419 | 0.74086 | 0.63455 | 0.71761 | 0.68771 |\n",
      "| 0.68771 | 0.73090 | 0.74419 | 0.69103 | 0.70432 | 0.68106 | 0.68439 | 0.72757 | 0.72425 | 0.71096 |\n",
      "| 0.72757 | 0.72093 | 0.72093 | 0.68439 | 0.72425 | 0.74751 | 0.71333 | 0.71667 | 0.55000 | 0.77667 |\n",
      "| 0.74667 | 0.67667 | 0.76000 | 0.68000 | 0.72000 | 0.69333 | 0.70667 | 0.67000 | 0.72667 | 0.76333 |\n",
      "| 0.68667 | 0.68667 | 0.72000 | 0.72667 | 0.69667 | 0.70333 | 0.72667 | 0.70667 | 0.76333 | 0.77667 |\n",
      "| 0.74333 | 0.73000 | 0.75333 | 0.73000 | 0.74916 | 0.68896 | 0.74582 | 0.79264 | 0.73579 | 0.75585 |\n",
      "| 0.77258 | 0.69565 | 0.66555 | 0.65552 | 0.72241 | 0.77592 | 0.71572 | 0.72910 | 0.75920 | 0.69900 |\n",
      "| 0.67559 | 0.74916 | 0.73244 | 0.70234 | 0.71906 | 0.72910 | 0.71572 | 0.73579 | 0.65217 | 0.74247 |\n",
      "| 0.68896 | 0.72241 | 0.70903 | 0.67224 | 0.68896 | 0.74247 | 0.73579 | 0.34114 | 0.74247 | 0.75251 |\n",
      "|   mean  |   mean  |   mean  |   mean  |   mean  |   mean  |   mean  |   mean  |   mean  |   mean  |\n",
      "| 0.71145 | 0.71177 | 0.72108 | 0.70173 | 0.71933 | 0.72301 | 0.70996 | 0.64262 | 0.71389 | 0.74127 |\n",
      "|   std   |   std   |   std   |   std   |   std   |   std   |   std   |   std   |   std   |   std   |\n",
      "| 0.03342 | 0.02152 | 0.02679 | 0.02869 | 0.01892 | 0.02907 | 0.03608 | 0.14844 | 0.06294 | 0.02991 |\n",
      "+---------+---------+---------+---------+---------+---------+---------+---------+---------+---------+\n",
      "Average Mean = \n",
      "0.7249194159116138\n",
      "Average Std = \n",
      "0.013122957541832543\n"
     ]
    }
   ],
   "source": [
    "print ('train scores')\n",
    "t = PrettyTable()\n",
    "m = []\n",
    "sigma = []\n",
    "for i in range(10):\n",
    "    c = str(i)\n",
    "    sc = ['{:.5f}'.format(j) for j in score1[i]]\n",
    "    t.add_column(c,sc) \n",
    "    m.append('%0.5f'%np.mean(score1[i]))\n",
    "    m1.append(np.mean(score[i]))\n",
    "    sigma.append('%0.5f'%np.std(score1[i]))\n",
    "    sigma1.append(np.std(score[i]))\n",
    "t.add_row([\"mean\"] * 10)\n",
    "t.add_row(m)\n",
    "t.add_row([\"std\"] * 10)\n",
    "t.add_row(sigma)\n",
    "print (t)\n",
    "print (\"Average Mean = \") \n",
    "print(np.mean(m1))\n",
    "print (\"Average Std = \")\n",
    "print(np.mean(sigma1))"
   ]
  },
  {
   "cell_type": "code",
   "execution_count": 121,
   "metadata": {},
   "outputs": [
    {
     "name": "stdout",
     "output_type": "stream",
     "text": [
      "[array([0.713, 0.724, 0.719, 0.707, 0.739, 0.731, 0.724, 0.74 , 0.744,\n",
      "       0.724]), array([0.718, 0.713, 0.724, 0.709, 0.727, 0.738, 0.738, 0.74 , 0.743,\n",
      "       0.728]), array([0.7  , 0.716, 0.726, 0.716, 0.714, 0.741, 0.736, 0.741, 0.733,\n",
      "       0.725]), array([0.723, 0.712, 0.709, 0.722, 0.719, 0.726, 0.735, 0.736, 0.731,\n",
      "       0.733]), array([0.712, 0.705, 0.729, 0.719, 0.71 , 0.728, 0.735, 0.731, 0.748,\n",
      "       0.727]), array([0.728, 0.705, 0.71 , 0.713, 0.713, 0.733, 0.741, 0.716, 0.734,\n",
      "       0.73 ]), array([0.708, 0.707, 0.717, 0.735, 0.723, 0.723, 0.74 , 0.726, 0.735,\n",
      "       0.735]), array([0.705, 0.72 , 0.728, 0.712, 0.718, 0.733, 0.74 , 0.727, 0.733,\n",
      "       0.727]), array([0.721, 0.712, 0.71 , 0.734, 0.706, 0.727, 0.739, 0.74 , 0.74 ,\n",
      "       0.723]), array([0.732, 0.709, 0.715, 0.714, 0.716, 0.728, 0.744, 0.746, 0.734,\n",
      "       0.727])]\n",
      "[array([0.668, 0.718, 0.688, 0.728, 0.747, 0.687, 0.743, 0.773, 0.676,\n",
      "       0.689]), array([0.708, 0.698, 0.731, 0.721, 0.677, 0.687, 0.73 , 0.696, 0.749,\n",
      "       0.722]), array([0.698, 0.708, 0.744, 0.721, 0.76 , 0.72 , 0.753, 0.666, 0.732,\n",
      "       0.709]), array([0.724, 0.751, 0.691, 0.684, 0.68 , 0.727, 0.73 , 0.656, 0.702,\n",
      "       0.672]), array([0.718, 0.751, 0.704, 0.724, 0.72 , 0.697, 0.749, 0.722, 0.719,\n",
      "       0.689]), array([0.724, 0.744, 0.681, 0.748, 0.693, 0.703, 0.689, 0.776, 0.729,\n",
      "       0.742]), array([0.615, 0.741, 0.684, 0.713, 0.707, 0.727, 0.746, 0.716, 0.716,\n",
      "       0.736]), array([0.372, 0.635, 0.728, 0.717, 0.67 , 0.707, 0.793, 0.729, 0.736,\n",
      "       0.341]), array([0.767, 0.718, 0.724, 0.55 , 0.727, 0.763, 0.736, 0.759, 0.652,\n",
      "       0.742]), array([0.748, 0.688, 0.711, 0.777, 0.763, 0.777, 0.756, 0.699, 0.742,\n",
      "       0.753])]\n"
     ]
    }
   ],
   "source": [
    "print (score)\n",
    "print (score1)"
   ]
  },
  {
   "cell_type": "code",
   "execution_count": null,
   "metadata": {},
   "outputs": [],
   "source": []
  }
 ],
 "metadata": {
  "kernelspec": {
   "display_name": "Python 3",
   "language": "python",
   "name": "python3"
  },
  "language_info": {
   "codemirror_mode": {
    "name": "ipython",
    "version": 3
   },
   "file_extension": ".py",
   "mimetype": "text/x-python",
   "name": "python",
   "nbconvert_exporter": "python",
   "pygments_lexer": "ipython3",
   "version": "3.7.3"
  }
 },
 "nbformat": 4,
 "nbformat_minor": 2
}
