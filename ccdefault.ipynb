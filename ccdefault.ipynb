{
 "cells": [
  {
   "cell_type": "code",
   "execution_count": 75,
   "metadata": {},
   "outputs": [
    {
     "name": "stdout",
     "output_type": "stream",
     "text": [
      "My name is {Zijie Lin}\n",
      "My NetID is: {zlin36}\n",
      "I hereby certify that I have read the University policy on Academic Integrity and that I am not in violation.\n"
     ]
    }
   ],
   "source": [
    "import sklearn\n",
    "import numpy as np\n",
    "from sklearn.neighbors import KNeighborsClassifier\n",
    "import pandas as pd\n",
    "from sklearn.model_selection import train_test_split\n",
    "from sklearn import preprocessing\n",
    "from sklearn.tree import DecisionTreeClassifier\n",
    "print(\"My name is {Zijie Lin}\")\n",
    "print(\"My NetID is: {zlin36}\")\n",
    "print(\"I hereby certify that I have read the University policy on Academic Integrity and that I am not in violation.\")"
   ]
  },
  {
   "cell_type": "code",
   "execution_count": 76,
   "metadata": {},
   "outputs": [
    {
     "name": "stdout",
     "output_type": "stream",
     "text": [
      "   ID  LIMIT_BAL  SEX  EDUCATION  MARRIAGE  AGE  PAY_0  PAY_2  PAY_3  PAY_4  \\\n",
      "0   1      20000    2          2         1   24      2      2     -1     -1   \n",
      "1   2     120000    2          2         2   26     -1      2      0      0   \n",
      "2   3      90000    2          2         2   34      0      0      0      0   \n",
      "3   4      50000    2          2         1   37      0      0      0      0   \n",
      "4   5      50000    1          2         1   57     -1      0     -1      0   \n",
      "\n",
      "   ...  BILL_AMT4  BILL_AMT5  BILL_AMT6  PAY_AMT1  PAY_AMT2  PAY_AMT3  \\\n",
      "0  ...          0          0          0         0       689         0   \n",
      "1  ...       3272       3455       3261         0      1000      1000   \n",
      "2  ...      14331      14948      15549      1518      1500      1000   \n",
      "3  ...      28314      28959      29547      2000      2019      1200   \n",
      "4  ...      20940      19146      19131      2000     36681     10000   \n",
      "\n",
      "   PAY_AMT4  PAY_AMT5  PAY_AMT6  DEFAULT  \n",
      "0         0         0         0        1  \n",
      "1      1000         0      2000        1  \n",
      "2      1000      1000      5000        0  \n",
      "3      1100      1069      1000        0  \n",
      "4      9000       689       679        0  \n",
      "\n",
      "[5 rows x 25 columns]\n"
     ]
    }
   ],
   "source": [
    "df = pd.read_csv('ccdefault.csv')\n",
    "print (df.head())\n",
    "X, y = df.iloc[:,1:-1], df.iloc[:,-1]\n",
    "tree = DecisionTreeClassifier ()"
   ]
  },
  {
   "cell_type": "code",
   "execution_count": 73,
   "metadata": {},
   "outputs": [],
   "source": [
    "x = {}\n",
    "for seed in range(1,11):\n",
    "    X_train, X_test, y_train, y_test = train_test_split(X, y,test_size=0.1, random_state=seed)\n",
    "    tree.fit(X_train, y_train)\n",
    "    x[seed] = [tree.score(X_train, y_train),tree.score(X_test, y_test)]"
   ]
  },
  {
   "cell_type": "code",
   "execution_count": null,
   "metadata": {},
   "outputs": [],
   "source": []
  },
  {
   "cell_type": "code",
   "execution_count": 15,
   "metadata": {},
   "outputs": [
    {
     "name": "stdout",
     "output_type": "stream",
     "text": [
      "+----------------------------+---------------------------+\n",
      "|           Train            |            Test           |\n",
      "+----------------------------+---------------------------+\n",
      "|     0.9993333333333333     |     0.7266666666666667    |\n",
      "|     0.9993703703703704     |     0.7336666666666667    |\n",
      "|     0.9993703703703704     |     0.7206666666666667    |\n",
      "|     0.9992962962962963     |     0.7206666666666667    |\n",
      "|     0.9993703703703704     |           0.728           |\n",
      "|     0.9994074074074074     |     0.7163333333333334    |\n",
      "|     0.9993333333333333     |     0.7253333333333334    |\n",
      "|     0.9992592592592593     |           0.722           |\n",
      "|     0.9995185185185185     |     0.7303333333333333    |\n",
      "|     0.9994814814814815     |           0.733           |\n",
      "|  mean= 0.9993740740740741  |  mean= 0.7256666666666666 |\n",
      "| std= 7.490277191168311e-05 | std= 0.005446711546122719 |\n",
      "+----------------------------+---------------------------+\n"
     ]
    }
   ],
   "source": [
    "from prettytable import PrettyTable\n",
    "t = PrettyTable(['Train', 'Test'])\n",
    "train = []\n",
    "test = []\n",
    "for i in x:\n",
    "    t.add_row(x[i])\n",
    "    test.append(x[i][1])\n",
    "    train.append(x[i][0])\n",
    "mean1 = np.mean(train)\n",
    "mean2 = np.mean(test)\n",
    "std1 = np.std(train)\n",
    "std2 = np.std(test)\n",
    "t.add_row([\"mean= \" + str(mean1),\"mean= \" + str(mean2)])\n",
    "t.add_row([\"std= \" + str(std1),\"std= \" + str(std2)])\n",
    "print(t)"
   ]
  },
  {
   "cell_type": "code",
   "execution_count": null,
   "metadata": {},
   "outputs": [],
   "source": [
    "\n"
   ]
  },
  {
   "cell_type": "code",
   "execution_count": 77,
   "metadata": {},
   "outputs": [],
   "source": [
    "from sklearn.model_selection import cross_val_score, StratifiedKFold\n",
    "tree = DecisionTreeClassifier ()\n",
    "score = []\n",
    "for seed in range(1,11):\n",
    "    X_train, X_test, y_train, y_test = train_test_split(X, y,test_size=0.1, random_state=seed)\n",
    "    kfold = StratifiedKFold(n_splits = 10, random_state = 1).split(X_train, y_train)\n",
    "    score.append(cross_val_score(tree, X_train, y_train, cv = 10))\n"
   ]
  },
  {
   "cell_type": "code",
   "execution_count": 78,
   "metadata": {},
   "outputs": [
    {
     "name": "stdout",
     "output_type": "stream",
     "text": [
      "train scores\n",
      "+---------+---------+---------+---------+---------+---------+---------+---------+---------+---------+\n",
      "|    0    |    1    |    2    |    3    |    4    |    5    |    6    |    7    |    8    |    9    |\n",
      "+---------+---------+---------+---------+---------+---------+---------+---------+---------+---------+\n",
      "| 0.71741 | 0.72084 | 0.72418 | 0.74306 | 0.72640 | 0.71751 | 0.72973 | 0.73676 | 0.72714 | 0.72973 |\n",
      "| 0.73370 | 0.72751 | 0.71825 | 0.71825 | 0.71677 | 0.73565 | 0.72195 | 0.70630 | 0.71973 | 0.71889 |\n",
      "| 0.73111 | 0.72825 | 0.70826 | 0.73148 | 0.73407 | 0.71455 | 0.72259 | 0.72259 | 0.72000 | 0.71481 |\n",
      "| 0.72000 | 0.73306 | 0.71196 | 0.72259 | 0.72074 | 0.72788 | 0.73222 | 0.73630 | 0.71963 | 0.72481 |\n",
      "| 0.72593 | 0.73306 | 0.71741 | 0.71667 | 0.73185 | 0.73111 | 0.72815 | 0.72926 | 0.72000 | 0.72000 |\n",
      "| 0.71926 | 0.71619 | 0.71296 | 0.71444 | 0.72889 | 0.72259 | 0.71481 | 0.72111 | 0.73185 | 0.73333 |\n",
      "| 0.72370 | 0.72101 | 0.72694 | 0.73111 | 0.71593 | 0.73138 | 0.72926 | 0.72370 | 0.71889 | 0.72407 |\n",
      "| 0.72926 | 0.71916 | 0.73731 | 0.72296 | 0.72111 | 0.73212 | 0.72704 | 0.71963 | 0.72741 | 0.73778 |\n",
      "| 0.71963 | 0.71693 | 0.72582 | 0.71878 | 0.72064 | 0.72990 | 0.71175 | 0.73000 | 0.73916 | 0.70963 |\n",
      "| 0.72222 | 0.72768 | 0.72064 | 0.72953 | 0.72545 | 0.72138 | 0.73879 | 0.72582 | 0.72286 | 0.71804 |\n",
      "|   mean  |   mean  |   mean  |   mean  |   mean  |   mean  |   mean  |   mean  |   mean  |   mean  |\n",
      "| 0.72422 | 0.72437 | 0.72037 | 0.72489 | 0.72419 | 0.72641 | 0.72563 | 0.72515 | 0.72467 | 0.72311 |\n",
      "|   std   |   std   |   std   |   std   |   std   |   std   |   std   |   std   |   std   |   std   |\n",
      "| 0.00529 | 0.00600 | 0.00812 | 0.00837 | 0.00585 | 0.00663 | 0.00766 | 0.00843 | 0.00637 | 0.00819 |\n",
      "+---------+---------+---------+---------+---------+---------+---------+---------+---------+---------+\n"
     ]
    }
   ],
   "source": [
    "print ('train scores')\n",
    "t = PrettyTable()\n",
    "m = []\n",
    "sigma = []\n",
    "for i in range(10):\n",
    "    c = str(i)\n",
    "    sc = ['{:.5f}'.format(j) for j in score[i]]\n",
    "    t.add_column(c,sc) \n",
    "    m.append('%0.5f'%np.mean(score[i]))\n",
    "    sigma.append('%0.5f'%np.std(score[i]))\n",
    "t.add_row([\"mean\"] * 10)\n",
    "t.add_row(m)\n",
    "t.add_row([\"std\"] * 10)\n",
    "t.add_row(sigma)\n",
    "print (t)"
   ]
  },
  {
   "cell_type": "code",
   "execution_count": 90,
   "metadata": {},
   "outputs": [],
   "source": [
    "score = []\n",
    "for seed in range(1,11):\n",
    "    X_train, X_test, y_train, y_test = train_test_split(X, y,test_size=0.1, random_state=seed)\n",
    "    kfold = StratifiedKFold(n_splits = 10, random_state = 1).split(X_test, y_test)\n",
    "    score.append(cross_val_score(tree, X_test, y_test, cv = 10))"
   ]
  },
  {
   "cell_type": "code",
   "execution_count": 89,
   "metadata": {},
   "outputs": [
    {
     "name": "stdout",
     "output_type": "stream",
     "text": [
      "out of sample scores\n",
      "+---------+---------+---------+---------+---------+---------+---------+---------+---------+---------+\n",
      "|    0    |    1    |    2    |    3    |    4    |    5    |    6    |    7    |    8    |    9    |\n",
      "+---------+---------+---------+---------+---------+---------+---------+---------+---------+---------+\n",
      "| 0.71429 | 0.72093 | 0.76080 | 0.66445 | 0.72093 | 0.70000 | 0.68106 | 0.74086 | 0.68439 | 0.71761 |\n",
      "| 0.73090 | 0.73333 | 0.71761 | 0.70764 | 0.72757 | 0.72000 | 0.74419 | 0.70764 | 0.71429 | 0.70432 |\n",
      "| 0.73090 | 0.73667 | 0.73333 | 0.73667 | 0.69333 | 0.71333 | 0.66333 | 0.76744 | 0.70333 | 0.73090 |\n",
      "| 0.69103 | 0.70333 | 0.75667 | 0.70667 | 0.71000 | 0.70667 | 0.70333 | 0.72425 | 0.71333 | 0.77076 |\n",
      "| 0.71667 | 0.74667 | 0.76333 | 0.69000 | 0.70000 | 0.70333 | 0.75667 | 0.72757 | 0.72333 | 0.72757 |\n",
      "| 0.76000 | 0.75333 | 0.76000 | 0.73667 | 0.73333 | 0.67000 | 0.73667 | 0.71237 | 0.73333 | 0.72241 |\n",
      "| 0.77592 | 0.75667 | 0.74333 | 0.74667 | 0.73333 | 0.69000 | 0.73667 | 0.72910 | 0.73667 | 0.77592 |\n",
      "| 0.73579 | 0.74667 | 0.73000 | 0.68667 | 0.72333 | 0.67667 | 0.68333 | 0.71237 | 0.69667 | 0.75251 |\n",
      "| 0.66221 | 0.74000 | 0.72575 | 0.69900 | 0.72575 | 0.73000 | 0.70569 | 0.67559 | 0.71572 | 0.74247 |\n",
      "| 0.73579 | 0.78261 | 0.79264 | 0.71906 | 0.72241 | 0.71000 | 0.72575 | 0.72241 | 0.72910 | 0.77258 |\n",
      "|   mean  |   mean  |   mean  |   mean  |   mean  |   mean  |   mean  |   mean  |   mean  |   mean  |\n",
      "| 0.72535 | 0.74202 | 0.74835 | 0.70935 | 0.71900 | 0.70200 | 0.71367 | 0.72196 | 0.71502 | 0.74170 |\n",
      "|   std   |   std   |   std   |   std   |   std   |   std   |   std   |   std   |   std   |   std   |\n",
      "| 0.03066 | 0.02021 | 0.02142 | 0.02450 | 0.01290 | 0.01771 | 0.02945 | 0.02248 | 0.01577 | 0.02398 |\n",
      "+---------+---------+---------+---------+---------+---------+---------+---------+---------+---------+\n",
      "Average Mean = \n",
      "0.7238413667559269\n",
      "Average Std = \n",
      "0.02190841123994117\n"
     ]
    }
   ],
   "source": [
    "print ('out of sample scores')\n",
    "t = PrettyTable()\n",
    "m = []\n",
    "sigma = []\n",
    "m1 = []\n",
    "sigma1 = []\n",
    "for i in range(10):\n",
    "    c = str(i)\n",
    "    sc = ['{:.5f}'.format(j) for j in score[i]]\n",
    "    t.add_column(c,sc) \n",
    "    m.append('%0.5f'%np.mean(score[i]))\n",
    "    m1.append(np.mean(score[i]))\n",
    "    sigma.append('%0.5f'%np.std(score[i]))\n",
    "    sigma1.append(np.std(score[i]))\n",
    "t.add_row([\"mean\"] * 10)\n",
    "t.add_row(m)\n",
    "t.add_row([\"std\"] * 10)\n",
    "t.add_row(sigma)\n",
    "print (t)\n",
    "print (\"Average Mean = \") \n",
    "print(np.mean(m1))\n",
    "print (\"Average Std = \")\n",
    "print(np.mean(sigma1))"
   ]
  },
  {
   "cell_type": "code",
   "execution_count": null,
   "metadata": {},
   "outputs": [],
   "source": []
  },
  {
   "cell_type": "code",
   "execution_count": null,
   "metadata": {},
   "outputs": [],
   "source": []
  },
  {
   "cell_type": "code",
   "execution_count": null,
   "metadata": {},
   "outputs": [],
   "source": []
  },
  {
   "cell_type": "code",
   "execution_count": null,
   "metadata": {},
   "outputs": [],
   "source": []
  }
 ],
 "metadata": {
  "kernelspec": {
   "display_name": "Python 3",
   "language": "python",
   "name": "python3"
  },
  "language_info": {
   "codemirror_mode": {
    "name": "ipython",
    "version": 3
   },
   "file_extension": ".py",
   "mimetype": "text/x-python",
   "name": "python",
   "nbconvert_exporter": "python",
   "pygments_lexer": "ipython3",
   "version": "3.7.3"
  }
 },
 "nbformat": 4,
 "nbformat_minor": 2
}
